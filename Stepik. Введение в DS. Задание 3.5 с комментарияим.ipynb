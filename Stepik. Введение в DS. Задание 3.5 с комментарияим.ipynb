{
 "cells": [
  {
   "cell_type": "code",
   "execution_count": null,
   "id": "66dffdbd",
   "metadata": {},
   "outputs": [],
   "source": [
    "# Импортируем необходимые модули\n",
    "# для работы с данными:\n",
    "import pandas as pd\n",
    "import zipfile\n",
    "\n"
   ]
  },
  {
   "cell_type": "code",
   "execution_count": null,
   "id": "e1ab6696",
   "metadata": {},
   "outputs": [],
   "source": [
    "# для построения леса деревьев решений, обучения моделей и построения confusion_matrix:\n",
    "from sklearn.ensemble import RandomForestClassifier\n",
    "from sklearn.model_selection import GridSearchCV\n",
    "from sklearn.metrics import confusion_matrix\n"
   ]
  },
  {
   "cell_type": "code",
   "execution_count": null,
   "id": "58be34b3",
   "metadata": {},
   "outputs": [],
   "source": [
    "\n",
    "# для работы с графикой:\n",
    "import matplotlib.pyplot as plt\n",
    "import seaborn as sns\n",
    "\n"
   ]
  },
  {
   "cell_type": "code",
   "execution_count": null,
   "id": "9df19fa6",
   "metadata": {},
   "outputs": [],
   "source": [
    "# Устанавливаем размер области для построения графиков.\n",
    "sns.set(rc={'figure.figsize': (17, 6)})\n",
    "\n"
   ]
  },
  {
   "cell_type": "code",
   "execution_count": null,
   "id": "a2c8a894",
   "metadata": {},
   "outputs": [],
   "source": [
    "# Считываем файл c данными о съедобности грибов.\n",
    "mush_data = pd.read_csv('https://stepik.org/media/attachments/course/4852/training_mush.csv')\n",
    "\n"
   ]
  },
  {
   "cell_type": "code",
   "execution_count": null,
   "id": "20773494",
   "metadata": {},
   "outputs": [],
   "source": [
    "# Отбросим колонку, которую будем предсказывать.\n",
    "X = mush_data.drop(['class'], axis=1)\n",
    "# Создадим переменную, которую будем предсказывать.\n",
    "y = mush_data['class']\n",
    "\n"
   ]
  },
  {
   "cell_type": "code",
   "execution_count": null,
   "id": "d6e2928a",
   "metadata": {},
   "outputs": [],
   "source": [
    "# Создаем модель RandomForestClassifier.\n",
    "rf = RandomForestClassifier(random_state=0)\n",
    "\n"
   ]
  },
  {
   "cell_type": "code",
   "execution_count": null,
   "id": "47108ed2",
   "metadata": {},
   "outputs": [],
   "source": [
    "# Задаем параметры модели.\n",
    "parameters = {'n_estimators': range(10, 51, 10), 'max_depth': range(1, 13, 2),\n",
    "              'min_samples_leaf': range(1,8), 'min_samples_split': range(2,10,2)}\n",
    "\n"
   ]
  },
  {
   "cell_type": "code",
   "execution_count": 2,
   "id": "bfd36305",
   "metadata": {},
   "outputs": [
    {
     "data": {
      "text/plain": [
       "GridSearchCV(cv=3, estimator=RandomForestClassifier(random_state=0), n_jobs=-1,\n",
       "             param_grid={'max_depth': range(1, 13, 2),\n",
       "                         'min_samples_leaf': range(1, 8),\n",
       "                         'min_samples_split': range(2, 10, 2),\n",
       "                         'n_estimators': range(10, 51, 10)})"
      ]
     },
     "execution_count": 2,
     "metadata": {},
     "output_type": "execute_result"
    }
   ],
   "source": [
    "# Обучение Random forest моделей GridSearchCV.\n",
    "GridSearchCV_clf = GridSearchCV(rf, parameters, cv=3, n_jobs=-1)\n",
    "GridSearchCV_clf.fit(X, y)\n",
    "\n"
   ]
  },
  {
   "cell_type": "code",
   "execution_count": 3,
   "id": "2e1ad286",
   "metadata": {},
   "outputs": [],
   "source": [
    "# Определение наилучшего классификатора.\n",
    "best_clf = GridSearchCV_clf.best_estimator_\n",
    "\n"
   ]
  },
  {
   "cell_type": "code",
   "execution_count": 4,
   "id": "5a3f38e4",
   "metadata": {},
   "outputs": [],
   "source": [
    "# Считываем второй файл c данными о грибах.\n",
    "mush_data_2 = pd.read_csv('https://stepik.org/media/attachments/course/4852/testing_mush.csv')\n",
    "\n"
   ]
  },
  {
   "cell_type": "code",
   "execution_count": 5,
   "id": "0fb7bb42",
   "metadata": {},
   "outputs": [],
   "source": [
    "# Предсказываем съедобность грибов из второго файла, используя созданный наилучший классификатор.\n",
    "predictions = best_clf.predict(mush_data_2)\n",
    "\n"
   ]
  },
  {
   "cell_type": "code",
   "execution_count": 6,
   "id": "8b7b25f4",
   "metadata": {},
   "outputs": [],
   "source": [
    "# Пароль к zip-файлу (появился при решении предыдущей задачи).\n",
    "password = 'Cool!Move_forward!'\n",
    "\n"
   ]
  },
  {
   "cell_type": "code",
   "execution_count": 8,
   "id": "4081eeb5",
   "metadata": {},
   "outputs": [],
   "source": [
    "# Считываем правильные данные по съедобности грибов из запароленного архива.\n",
    "z = zipfile.ZipFile(\"E:\\\\pyrhon\\\\progectTEST\\\\testing_y_mush.csv.zip\")\n",
    "txtfiles = z.namelist()\n",
    "y_true = pd.read_csv(z.open(txtfiles[0], \"r\", pwd=password.encode('cp850', 'replace')))\n",
    "\n"
   ]
  },
  {
   "cell_type": "code",
   "execution_count": 9,
   "id": "7b372b47",
   "metadata": {},
   "outputs": [
    {
     "data": {
      "image/png": "[encoded data removed]",
      "text/plain": [
       "<Figure size 1224x432 with 2 Axes>"
      ]
     },
     "metadata": {},
     "output_type": "display_data"
    }
   ],
   "source": [
    "# Создание confusion matrix по предсказаниям, полученным в прошлом уроке и правильным ответам.\n",
    "sns.heatmap(confusion_matrix(y_true, predictions), annot=True, cmap=\"Blues\")\n",
    "plt.show()"
   ]
  },
  {
   "cell_type": "code",
   "execution_count": null,
   "id": "24a498fc",
   "metadata": {},
   "outputs": [],
   "source": []
  }
 ],
 "metadata": {
  "kernelspec": {
   "display_name": "Python 3",
   "language": "python",
   "name": "python3"
  },
  "language_info": {
   "codemirror_mode": {
    "name": "ipython",
    "version": 3
   },
   "file_extension": ".py",
   "mimetype": "text/x-python",
   "name": "python",
   "nbconvert_exporter": "python",
   "pygments_lexer": "ipython3",
   "version": "3.8.8"
  }
 },
 "nbformat": 4,
 "nbformat_minor": 5
}
