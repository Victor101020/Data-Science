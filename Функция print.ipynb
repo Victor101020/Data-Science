{
 "cells": [
  {
   "cell_type": "code",
   "execution_count": 2,
   "id": "15ddd189-660e-4a57-a035-cc3388113455",
   "metadata": {},
   "outputs": [],
   "source": [
    "#Список для тестировани \n",
    "l = ['1','2','34','4','4']"
   ]
  },
  {
   "cell_type": "markdown",
   "id": "cf997df5-b395-41df-8489-9d0bd0553076",
   "metadata": {},
   "source": [
    "Для того, чтобы вывести все из объекта нужно поставить *"
   ]
  },
  {
   "cell_type": "code",
   "execution_count": 4,
   "id": "65033d30-8236-4ed2-a871-5f35df4cc6a4",
   "metadata": {},
   "outputs": [
    {
     "name": "stdout",
     "output_type": "stream",
     "text": [
      "1 2 34 4 4\n"
     ]
    }
   ],
   "source": [
    "print(*l)"
   ]
  },
  {
   "cell_type": "markdown",
   "id": "d8bdf2d0-5d2e-409b-ad9a-1265d93cbe68",
   "metadata": {},
   "source": [
    "Для того, чтобы вывести список через заяпятую:"
   ]
  },
  {
   "cell_type": "code",
   "execution_count": 3,
   "id": "d4770abb-0401-425f-a92f-9492e7c16b21",
   "metadata": {},
   "outputs": [
    {
     "name": "stdout",
     "output_type": "stream",
     "text": [
      "1, 2, 34, 4, 4\n"
     ]
    }
   ],
   "source": [
    "print (\", \".join(l))"
   ]
  },
  {
   "cell_type": "code",
   "execution_count": null,
   "id": "59581613-2b89-4578-93e0-5e0bb6f1c111",
   "metadata": {},
   "outputs": [],
   "source": []
  }
 ],
 "metadata": {
  "kernelspec": {
   "display_name": "Python 3 (ipykernel)",
   "language": "python",
   "name": "python3"
  },
  "language_info": {
   "codemirror_mode": {
    "name": "ipython",
    "version": 3
   },
   "file_extension": ".py",
   "mimetype": "text/x-python",
   "name": "python",
   "nbconvert_exporter": "python",
   "pygments_lexer": "ipython3",
   "version": "3.7.6"
  }
 },
 "nbformat": 4,
 "nbformat_minor": 5
}
