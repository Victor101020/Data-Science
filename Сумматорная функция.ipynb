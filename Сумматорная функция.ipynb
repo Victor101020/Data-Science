{
 "cells": [
  {
   "cell_type": "markdown",
   "id": "9fbc82c7",
   "metadata": {},
   "source": [
    "## Функция сумматора входного вектора и весов "
   ]
  },
  {
   "cell_type": "markdown",
   "id": "04bc1361",
   "metadata": {},
   "source": [
    "### На вход функция принимает два вектора одинаковой размерности"
   ]
  },
  {
   "cell_type": "code",
   "execution_count": 13,
   "id": "344730b1",
   "metadata": {},
   "outputs": [],
   "source": [
    "X = [3, -2, 4, 1, 15, -10, 16, -23, 24, 6]\n",
    "W = [1.7, 0.0, -1.3, 0.5, -1.7, -1.7, 0.8, 2.0, 0.6, -1.4]"
   ]
  },
  {
   "cell_type": "markdown",
   "id": "c6c2c197",
   "metadata": {},
   "source": [
    "### Суммирует по формуле Сумм Xi *Wi, рузультат печатает в консоль"
   ]
  },
  {
   "cell_type": "code",
   "execution_count": 14,
   "id": "80abd695",
   "metadata": {},
   "outputs": [],
   "source": [
    "   \n",
    "def added_function(X, W):\n",
    "    if len(X)==len(W):\n",
    "        summ=0\n",
    "        d = {}\n",
    "        for i in range(len(X)):\n",
    "            d[X[i]]=W[i]\n",
    "        for key,value in d.items():\n",
    "            b = key*value\n",
    "            summ+=b\n",
    "        print(summ)\n",
    "    else:\n",
    "        print('Размерность векторов разная')"
   ]
  },
  {
   "cell_type": "code",
   "execution_count": 15,
   "id": "e9220722",
   "metadata": {},
   "outputs": [
    {
     "name": "stdout",
     "output_type": "stream",
     "text": [
      "-35.3\n"
     ]
    }
   ],
   "source": [
    "added_function(X, W)"
   ]
  },
  {
   "cell_type": "code",
   "execution_count": null,
   "id": "26fa9e00",
   "metadata": {},
   "outputs": [],
   "source": []
  },
  {
   "cell_type": "code",
   "execution_count": null,
   "id": "b2815366",
   "metadata": {},
   "outputs": [],
   "source": []
  }
 ],
 "metadata": {
  "kernelspec": {
   "display_name": "Python 3",
   "language": "python",
   "name": "python3"
  },
  "language_info": {
   "codemirror_mode": {
    "name": "ipython",
    "version": 3
   },
   "file_extension": ".py",
   "mimetype": "text/x-python",
   "name": "python",
   "nbconvert_exporter": "python",
   "pygments_lexer": "ipython3",
   "version": "3.8.8"
  }
 },
 "nbformat": 4,
 "nbformat_minor": 5
}
