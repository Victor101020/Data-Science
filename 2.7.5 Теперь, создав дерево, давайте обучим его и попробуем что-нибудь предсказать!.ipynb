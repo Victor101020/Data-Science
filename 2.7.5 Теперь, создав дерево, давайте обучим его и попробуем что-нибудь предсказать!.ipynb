{
 "cells": [
  {
   "cell_type": "markdown",
   "id": "dd3e96f2",
   "metadata": {},
   "source": [
    "Теперь, создав дерево, давайте обучим его и попробуем что-нибудь предсказать!\n",
    "\n",
    "Для начала опробуем наше дерево на классическом наборе iris, где собраны данные о длине, ширине чашелистиков и лепестков ирисов и их принадлежности к виду. В sklearn он уже встроен, что довольно удобно.\n",
    "\n",
    "Итак, вам даны 2 numpy эррея с измеренными признаками ирисов и их принадлежностью к виду. Сначала попробуем примитивный способ с разбиением данных на 2 датасэта. Используйте функцию train_test_split для разделения имеющихся данных на тренировочный и тестовый наборы данных, 75% и 25% соответственно.\n",
    "Затем создайте дерево dt с параметрами по умолчанию и обучите его на тренировочных данных, а после предскажите классы, к которым принадлежат данные из тестовой выборки, сохраните результат предсказаний в переменную predicted."
   ]
  },
  {
   "cell_type": "code",
   "execution_count": null,
   "id": "943cac3f",
   "metadata": {},
   "outputs": [],
   "source": [
    "import pandas as pd\n",
    "from sklearn.tree import DecisionTreeClassifier\n",
    "from sklearn.model_selection import train_test_split\n",
    "from sklearn.datasets import load_iris\n",
    "\n",
    "\n",
    "iris = load_iris()\n",
    "X = iris.data\n",
    "y = iris.target\n",
    "\n",
    "X_train, X_test, y_train,y_test = train_test_split(X, y, test_size = 0.25)#сплитим на тестовые и тренировочные данные\n",
    "\n",
    "dt  = DecisionTreeClassifier() #создаем классификатор\n",
    "\n",
    "dt.fit(X_train,y_train) #обучаем на тренировочных\n",
    "\n",
    "predicted = dt.predict(X_test) # предсказываем классы на тестовых"
   ]
  }
 ],
 "metadata": {
  "kernelspec": {
   "display_name": "Python 3",
   "language": "python",
   "name": "python3"
  },
  "language_info": {
   "codemirror_mode": {
    "name": "ipython",
    "version": 3
   },
   "file_extension": ".py",
   "mimetype": "text/x-python",
   "name": "python",
   "nbconvert_exporter": "python",
   "pygments_lexer": "ipython3",
   "version": "3.8.8"
  }
 },
 "nbformat": 4,
 "nbformat_minor": 5
}
