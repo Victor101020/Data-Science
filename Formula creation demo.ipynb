{
 "cells": [
  {
   "cell_type": "markdown",
   "id": "4879162c",
   "metadata": {},
   "source": [
    "$P(A \\mid B) = \\frac{ P(B \\mid A) P(A) }{ P(B) }$"
   ]
  },
  {
   "cell_type": "markdown",
   "id": "e141dcca",
   "metadata": {},
   "source": [
    "Байесовская формула: $ P (A \\ mid B) = \\ frac {P (B \\ mid A) P (A)} {P (B)} $$"
   ]
  },
  {
   "cell_type": "markdown",
   "id": "1d45e908",
   "metadata": {},
   "source": [
    "# Верхний индекс и нижний индекс"
   ]
  },
  {
   "cell_type": "markdown",
   "id": "1f226387",
   "metadata": {},
   "source": [
    "$$x^2$$"
   ]
  },
  {
   "cell_type": "markdown",
   "id": "c13cf8b7",
   "metadata": {},
   "source": [
    "$$e^2x$$"
   ]
  },
  {
   "cell_type": "markdown",
   "id": "4a8293eb",
   "metadata": {},
   "source": [
    "$$e^{2x}$$"
   ]
  },
  {
   "cell_type": "markdown",
   "id": "e04a69bd",
   "metadata": {},
   "source": [
    "$$x_i$$"
   ]
  },
  {
   "cell_type": "markdown",
   "id": "d2a19f67",
   "metadata": {},
   "source": [
    "$$_{10}C_5$$"
   ]
  },
  {
   "cell_type": "markdown",
   "id": "2e838bc2",
   "metadata": {},
   "source": [
    "$$\\underset{k}{argmax}$$"
   ]
  },
  {
   "cell_type": "markdown",
   "id": "b2fa03fa",
   "metadata": {},
   "source": [
    "# Корень и дроби"
   ]
  },
  {
   "cell_type": "markdown",
   "id": "6ae18355",
   "metadata": {},
   "source": [
    "$$\\overline{m+n}$$"
   ]
  },
  {
   "cell_type": "markdown",
   "id": "80c6a7fa",
   "metadata": {},
   "source": [
    "$$ \\sqrt{2\\pi} $$"
   ]
  },
  {
   "cell_type": "markdown",
   "id": "f3b1ac31",
   "metadata": {},
   "source": [
    "$$\\sqrt[3]{a}$$"
   ]
  },
  {
   "cell_type": "markdown",
   "id": "623fbbf9",
   "metadata": {},
   "source": [
    "$$\\frac{a}{b}$$"
   ]
  },
  {
   "cell_type": "markdown",
   "id": "2ef233ad",
   "metadata": {},
   "source": [
    "$$\\underline {m+n}$$"
   ]
  },
  {
   "cell_type": "markdown",
   "id": "23893bf1",
   "metadata": {},
   "source": [
    "# Символы"
   ]
  },
  {
   "cell_type": "markdown",
   "id": "a81d0ff4",
   "metadata": {},
   "source": [
    "$$\\alpha, \\beta, \\gamma$$"
   ]
  },
  {
   "cell_type": "markdown",
   "id": "0bf06957",
   "metadata": {},
   "source": [
    "$$\\Phi, \\Lambda, \\Gamma$$"
   ]
  },
  {
   "cell_type": "markdown",
   "id": "09064c07",
   "metadata": {},
   "source": [
    "$$\\times, \\pm, \\cup, \\oplus$$"
   ]
  },
  {
   "cell_type": "markdown",
   "id": "2b0e8242",
   "metadata": {},
   "source": [
    "$$\\sin, \\cosh, \\arctan$$"
   ]
  },
  {
   "cell_type": "markdown",
   "id": "2a7fab1c",
   "metadata": {},
   "source": [
    "$$\\leq, \\geq, \\approx, \\neq$$"
   ]
  },
  {
   "cell_type": "markdown",
   "id": "bd431202",
   "metadata": {},
   "source": [
    "$$\\cdots, \\ldots, \\ddots$$"
   ]
  },
  {
   "cell_type": "markdown",
   "id": "f20863d0",
   "metadata": {},
   "source": [
    "$$\\infty, \\nabla, \\partial $$"
   ]
  },
  {
   "cell_type": "markdown",
   "id": "21742a2a",
   "metadata": {},
   "source": [
    "# Заголовок"
   ]
  },
  {
   "cell_type": "markdown",
   "id": "cedf98a5",
   "metadata": {},
   "source": [
    "$$\\hat x$$"
   ]
  },
  {
   "cell_type": "markdown",
   "id": "e00d9b8c",
   "metadata": {},
   "source": [
    "$$\\widehat{abs}$$"
   ]
  },
  {
   "cell_type": "markdown",
   "id": "4389917f",
   "metadata": {},
   "source": [
    "$$\\bar x $$"
   ]
  },
  {
   "cell_type": "markdown",
   "id": "7c9271cd",
   "metadata": {},
   "source": [
    "$$\\overline{abs}$$"
   ]
  },
  {
   "cell_type": "markdown",
   "id": "7d9ad618",
   "metadata": {},
   "source": [
    "$$\\dot x\\quad\\ddot x $$"
   ]
  },
  {
   "cell_type": "markdown",
   "id": "58f170fd",
   "metadata": {},
   "source": [
    "$$\\vec{x}, \\overrightarrow{AB}$$"
   ]
  },
  {
   "cell_type": "markdown",
   "id": "8331bec1",
   "metadata": {},
   "source": [
    "# Скобки"
   ]
  },
  {
   "cell_type": "markdown",
   "id": "92cea103",
   "metadata": {},
   "source": [
    "$$z=(\\frac{dx}{dy})^{1/3}$$"
   ]
  },
  {
   "cell_type": "markdown",
   "id": "4906e176",
   "metadata": {},
   "source": [
    "$$z=\\left(\\frac{dx}{dy}\\right)^{1/3}$$"
   ]
  },
  {
   "cell_type": "markdown",
   "id": "3a5de89c",
   "metadata": {},
   "source": [
    "$$ {\\langle} {\\phi} \\mid {\\psi} {\\rangle} $$"
   ]
  },
  {
   "cell_type": "markdown",
   "id": "8774af11",
   "metadata": {},
   "source": [
    "$$ {\\langle} {\\phi} \\vert {\\psi} {\\rangle} $$"
   ]
  },
  {
   "cell_type": "markdown",
   "id": "101d5e13",
   "metadata": {},
   "source": [
    "$$\\left[\\begin{matrix}a & b \\cr c & d\\end{matrix}\\right]$$"
   ]
  },
  {
   "cell_type": "markdown",
   "id": "756b4fe8",
   "metadata": {},
   "source": [
    "$$\\left\\lgroup\\begin{matrix}a & b \\cr c & d\\end{matrix}\\right\\rgroup$$"
   ]
  },
  {
   "cell_type": "markdown",
   "id": "89557be3",
   "metadata": {},
   "source": [
    "# Выравнивание по уравнениям"
   ]
  },
  {
   "cell_type": "markdown",
   "id": "99f82ab0",
   "metadata": {},
   "source": [
    "$$\n",
    "a_1=b_1+c_1 \\\\\n",
    "a_2=b_2+c_2+d_2 \\\\\n",
    "a_3=b_3+c_3\n",
    "$$\n"
   ]
  },
  {
   "cell_type": "markdown",
   "id": "e5a5878b",
   "metadata": {},
   "source": [
    "$$\\begin{aligned}\n",
    "a_1&=b_1+c_1 \\\\\n",
    "a_2&=b_2+c_2+d_2 \\\\\n",
    "a_3&=b_3+c_3\n",
    "\\end{aligned}$$\n"
   ]
  },
  {
   "cell_type": "markdown",
   "id": "0d9f838e",
   "metadata": {},
   "source": [
    "$$\n",
    "sign(x)=\n",
    "\\begin{cases}\n",
    "1,&x>0 \\\\ \n",
    "0,&x=0 \\\\\n",
    "-1,&x<0\n",
    "\\end{cases}\n",
    "$$\n"
   ]
  },
  {
   "cell_type": "markdown",
   "id": "ac9e9d51",
   "metadata": {},
   "source": [
    "$$\\underbrace{a+b+\\cdots+j}_{10}$$"
   ]
  },
  {
   "cell_type": "markdown",
   "id": "21ad34af",
   "metadata": {},
   "source": [
    "$$\\overbrace{a+b+\\cdots+j}^{10}$$"
   ]
  },
  {
   "cell_type": "markdown",
   "id": "313569e9",
   "metadata": {},
   "source": [
    "$$\\vec{AB}$$"
   ]
  },
  {
   "cell_type": "markdown",
   "id": "33d64d93",
   "metadata": {},
   "source": [
    "$$\\overrightarrow{AB}$$"
   ]
  },
  {
   "cell_type": "markdown",
   "id": "69522dbc",
   "metadata": {},
   "source": [
    "$$\\overleftarrow {AB}$$"
   ]
  },
  {
   "cell_type": "markdown",
   "id": "d44ff636",
   "metadata": {},
   "source": [
    "$$\\frac{-b\\pm\\sqrt{b^2-4ac}}{2a}$$"
   ]
  },
  {
   "cell_type": "markdown",
   "id": "4e90b85c",
   "metadata": {},
   "source": [
    "$$\\int_{0}^{\\pi}{\\tan x}$$"
   ]
  },
  {
   "cell_type": "markdown",
   "id": "542cd509",
   "metadata": {},
   "source": [
    "$$\\sum_{i=0}^{n}{i}$$"
   ]
  },
  {
   "cell_type": "markdown",
   "id": "82cafa01",
   "metadata": {},
   "source": [
    "$$\\prod_{i=1}^{9}{i}$$"
   ]
  },
  {
   "cell_type": "code",
   "execution_count": null,
   "id": "6df9fd0a",
   "metadata": {},
   "outputs": [],
   "source": []
  }
 ],
 "metadata": {
  "kernelspec": {
   "display_name": "Python 3",
   "language": "python",
   "name": "python3"
  },
  "language_info": {
   "codemirror_mode": {
    "name": "ipython",
    "version": 3
   },
   "file_extension": ".py",
   "mimetype": "text/x-python",
   "name": "python",
   "nbconvert_exporter": "python",
   "pygments_lexer": "ipython3",
   "version": "3.8.8"
  }
 },
 "nbformat": 4,
 "nbformat_minor": 5
}
