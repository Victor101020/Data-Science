{
 "cells": [
  {
   "cell_type": "code",
   "execution_count": null,
   "id": "bea0179c",
   "metadata": {},
   "outputs": [],
   "source": [
    "Воспользуемся изученными приёмами и попредсказываем!\n",
    "\n",
    "Даны 2 датасэта, к которым вы можете обращаться:\n",
    "\n",
    "    train - размеченный с известными правильным ответами (хранятся в колонке y)\n",
    "    test - набор, где нужно предсказать их\n",
    "Найдите дерево с наиболее подходящими параметрами с помощью GridSearchCV и предскажите с его помощью ответы ко 2-ому сэту! Границы параметров как раньше:\n",
    "\n",
    "максимальная глубина - от 1 до 10 уровней\n",
    "минимальное число проб для разделения - от 2 до 10\n",
    "минимальное число проб в листе - от 1 до 10\n",
    "Названия переменных тоже:лучшее дерево - best_tree, GridSearchCV - search, а предсказания - predictions"
   ]
  },
  {
   "cell_type": "code",
   "execution_count": null,
   "id": "463d030c",
   "metadata": {},
   "outputs": [],
   "source": [
    "import numpy as np\n",
    "import pandas as pd\n",
    "from sklearn.tree import DecisionTreeClassifier\n",
    "from sklearn.model_selection import GridSearchCV\n",
    "from sklearn.model_selection import train_test_split\n",
    "#разбиваем тренировочные данные на X_train, X_test, y_train,y_test\n",
    "X= train.drop(['y'], axis =1)\n",
    "y= train['y']\n",
    "X_train, X_test, y_train,y_test = train_test_split(X, y, test_size = 0.33, random_state = 42)\n",
    "#Создаем классификатор\n",
    "clf = DecisionTreeClassifier()\n",
    "\n",
    "#создаем словарь параметров\n",
    "parametrs = {'max_depth': range(1,10),'min_samples_split':range(2,10),'min_samples_leaf':range(1,10)}\n",
    "\n",
    "#переменная search при помощи GridSearchCV перебирает параметры из словаря и ищет лучшие\n",
    "search = GridSearchCV(clf,parametrs,cv=3)\n",
    "\n",
    "#обучаем на тренировочных данных\n",
    "search.fit(X_train,y_train)\n",
    "\n",
    "#создаем лучший классификатор исходя из обучния\n",
    "best_tree = search.best_estimator_\n",
    "\n",
    "# делаем предсказания по лучшему дереву на датасете test\n",
    "predictions = best_tree.predict(test)\n"
   ]
  }
 ],
 "metadata": {
  "kernelspec": {
   "display_name": "Python 3",
   "language": "python",
   "name": "python3"
  },
  "language_info": {
   "codemirror_mode": {
    "name": "ipython",
    "version": 3
   },
   "file_extension": ".py",
   "mimetype": "text/x-python",
   "name": "python",
   "nbconvert_exporter": "python",
   "pygments_lexer": "ipython3",
   "version": "3.8.8"
  }
 },
 "nbformat": 4,
 "nbformat_minor": 5
}
