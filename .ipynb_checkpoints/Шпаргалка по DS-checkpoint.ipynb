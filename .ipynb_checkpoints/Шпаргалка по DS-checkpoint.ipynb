{
 "cells": [
  {
   "cell_type": "markdown",
   "id": "626cb8c1",
   "metadata": {},
   "source": [
    "Коротко о машинном обучении - https://vas3k.ru/blog/machine_learning/"
   ]
  },
  {
   "cell_type": "markdown",
   "id": "876d4dca",
   "metadata": {},
   "source": [
    "### Полезные ссылки:\n",
    "    1.Шпаргалка с хабра - https://habr.com/ru/company/ruvds/blog/494720/\n",
    "    2.Функция value_counts - https://pythonru.com/primery/pandas-value-counts\n",
    "    3.Работа с датой https://python-scripts.com/datetime-time-python\n",
    "    4.\n",
    "    5.\n",
    "    6\n",
    "    n."
   ]
  }
 ],
 "metadata": {
  "kernelspec": {
   "display_name": "Python 3",
   "language": "python",
   "name": "python3"
  },
  "language_info": {
   "codemirror_mode": {
    "name": "ipython",
    "version": 3
   },
   "file_extension": ".py",
   "mimetype": "text/x-python",
   "name": "python",
   "nbconvert_exporter": "python",
   "pygments_lexer": "ipython3",
   "version": "3.8.8"
  }
 },
 "nbformat": 4,
 "nbformat_minor": 5
}
