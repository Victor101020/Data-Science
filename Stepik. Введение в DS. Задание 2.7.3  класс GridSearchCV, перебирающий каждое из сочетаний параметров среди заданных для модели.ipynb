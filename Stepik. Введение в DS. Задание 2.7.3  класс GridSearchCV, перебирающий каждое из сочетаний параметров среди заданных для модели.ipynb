{
 "cells": [
  {
   "cell_type": "markdown",
   "id": "ed55de48",
   "metadata": {},
   "source": [
    "Одно дерево - хорошо, но где гарантии, что оно является лучшим, или хотя бы близко к нему? Одним из способов найти более-менее оптимальный набор параметров дерева является перебор множества деревьев с разными параметрами и выбор подходящего.\n",
    "Для этой цели существует класс GridSearchCV, перебирающий каждое из сочетаний параметров среди заданных для модели, обучающий её на данных и проводящих кросс-валидацию. После этого в аттрибуте .best_estimator_ храниться модель с лучшими параметрами.\n",
    "Это применимо не только к деревьям, но и к другим моделям sklearn.\n",
    "\n",
    "Теперь задание - осуществите перебор всех деревьев на данных ириса по следующим параметрам:\n",
    "максимальная глубина - от 1 до 10 уровней\n",
    "минимальное число проб для разделения - от 2 до 10\n",
    "минимальное число проб в листе - от 1 до 10\n",
    "и сохраните в переменную best_tree лучшее дерево. Переменную с GridSearchCV назовите search"
   ]
  },
  {
   "cell_type": "code",
   "execution_count": null,
   "id": "2cb2e446",
   "metadata": {},
   "outputs": [],
   "source": [
    "import pandas as pd\n",
    "from sklearn.tree import DecisionTreeClassifier\n",
    "from sklearn.model_selection import GridSearchCV\n",
    "from sklearn.datasets import load_iris\n",
    "\n",
    "\n",
    "iris = load_iris()\n",
    "X = iris.data\n",
    "y = iris.target\n",
    "\n",
    "#создаем классификатор\n",
    "clf = DecisionTreeClassifier()\n",
    "#создаем словарь параметров\n",
    "parametrs = {'max_depth': range(1,10),'min_samples_split':range(2,10),'min_samples_leaf':range(1,10)}\n",
    "#создаем переменную класса GridSearchCV передаем классификатор и какие параметры перебрать, кросс-валидация равна 5\n",
    "search = GridSearchCV(clf,parametrs,cv=5)\n",
    "#обучаем на тренировочных данных\n",
    "search.fit(X,y)\n",
    "#создаем классификатор с лучшими параметрами\n",
    "best_tree = DecisionTreeClassifier(search.best_params_)"
   ]
  }
 ],
 "metadata": {
  "kernelspec": {
   "display_name": "Python 3",
   "language": "python",
   "name": "python3"
  },
  "language_info": {
   "codemirror_mode": {
    "name": "ipython",
    "version": 3
   },
   "file_extension": ".py",
   "mimetype": "text/x-python",
   "name": "python",
   "nbconvert_exporter": "python",
   "pygments_lexer": "ipython3",
   "version": "3.8.8"
  }
 },
 "nbformat": 4,
 "nbformat_minor": 5
}
