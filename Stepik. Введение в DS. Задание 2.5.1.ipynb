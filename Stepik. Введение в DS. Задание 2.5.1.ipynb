{
 "cells": [
  {
   "cell_type": "markdown",
   "id": "990278b4",
   "metadata": {},
   "source": [
    "Поупражняемся в расчётах precision. В задании даны переменные, содержащие информацию о песнях и артистах - X_train, y_train, X_test и y_test. Исходно в датасэтах содержались тексты песен, но Decision Tree работает с категориальными и числовыми переменными, а текст это... текст. Поэтому его необходимо преобразовать в понятную для модели форму. В данном случае для каждой песни просто посчитаны длина и количество некоторых знаков пунктуации.\n",
    "\n",
    "Обучите модель на тренировочных данных, предскажите авторов для тестовых и поместите в переменную predictions. Затем посчитайте precision score на предсказаниях и y_test, укажите параметр average='micro', и сохраните результат в переменную precision.\n",
    "\n",
    "Если он будет недостаточно высок, потюньте немного модель."
   ]
  },
  {
   "cell_type": "code",
   "execution_count": null,
   "id": "d1f64897",
   "metadata": {},
   "outputs": [],
   "source": [
    "import pandas as pd\n",
    "from sklearn.tree import DecisionTreeClassifier\n",
    "from sklearn.metrics import precision_score\n",
    "#Создаем классификатор\n",
    "clf = DecisionTreeClassifier()\n",
    "#обучаем классификатор на тренировочных данных\n",
    "clf.fit(x_train, y_train)\n",
    "#Создаем переменную и рогнозируем целевые значения X_test по заданной модели\n",
    "predictions = clf.predict(x_test)\n",
    "#precision - точнонось, на осногве y_test прогнозируемой переменной, значение  average='micro' для учета среднего значения\n",
    "precision = precision_score(y_test, predictions, average='micro')"
   ]
  },
  {
   "cell_type": "markdown",
   "id": "7e51fbd7",
   "metadata": {},
   "source": [
    "Другое решение, где перебирается глубина дерева до тех пор, пока не достигнет опрд-ой точности"
   ]
  },
  {
   "cell_type": "code",
   "execution_count": null,
   "id": "2f34a707",
   "metadata": {},
   "outputs": [],
   "source": [
    "import pandas as pd\n",
    "from sklearn.tree import DecisionTreeClassifier\n",
    "from sklearn.metrics import precision_score\n",
    "depth = 1\n",
    "while True:\n",
    "    clf = DecisionTreeClassifier(criterion='entropy', max_depth=depth)\n",
    "    clf.fit(x_train, y_train)\n",
    "    predictions = clf.predict(x_test)\n",
    "    precision = precision_score(y_test, predictions, average='micro')\n",
    "    if precision > 0.78:\n",
    "        break\n",
    "    else:\n",
    "        depth += 1"
   ]
  }
 ],
 "metadata": {
  "kernelspec": {
   "display_name": "Python 3 (ipykernel)",
   "language": "python",
   "name": "python3"
  },
  "language_info": {
   "codemirror_mode": {
    "name": "ipython",
    "version": 3
   },
   "file_extension": ".py",
   "mimetype": "text/x-python",
   "name": "python",
   "nbconvert_exporter": "python",
   "pygments_lexer": "ipython3",
   "version": "3.7.6"
  }
 },
 "nbformat": 4,
 "nbformat_minor": 5
}
