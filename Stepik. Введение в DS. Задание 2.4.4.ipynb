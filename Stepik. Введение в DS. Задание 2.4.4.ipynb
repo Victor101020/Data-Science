{
 "cells": [
  {
   "cell_type": "code",
   "execution_count": 1,
   "id": "2c5cead8",
   "metadata": {},
   "outputs": [],
   "source": [
    "from sklearn import tree\n",
    "import pandas as pd\n",
    "import numpy as np\n",
    "import matplotlib.pyplot as plt\n",
    "import seaborn as sns\n",
    "%matplotlib inline"
   ]
  },
  {
   "cell_type": "code",
   "execution_count": 2,
   "id": "6bf0615d",
   "metadata": {},
   "outputs": [],
   "source": [
    "from IPython.display import SVG \n",
    "from IPython.display import display\n",
    "from graphviz import Source"
   ]
  },
  {
   "cell_type": "code",
   "execution_count": 24,
   "id": "dfeeebdc",
   "metadata": {},
   "outputs": [],
   "source": [
    "from IPython .display import HTML\n",
    "style = \"<style>svg{width:50% !important;height:50% !important;}</style>\"\n",
    "np.random.seed(0)"
   ]
  },
  {
   "cell_type": "code",
   "execution_count": 36,
   "id": "a1c0ee45",
   "metadata": {},
   "outputs": [],
   "source": [
    "from sklearn.model_selection import train_test_split"
   ]
  },
  {
   "cell_type": "code",
   "execution_count": 37,
   "id": "db73caf7",
   "metadata": {},
   "outputs": [],
   "source": [
    "df_train = pd.read_csv('E:\\\\pyrhon\\\\progectTEST\\\\2.4.4\\\\dogs_n_cats.csv') #считываем данные \n",
    "X = df_train.drop(['Вид'], axis=1) #удаляем фичу из исх данных и опред-м X\n",
    "y= df_train['Вид']  #целевая переменная(которую надо определить)"
   ]
  },
  {
   "cell_type": "code",
   "execution_count": 39,
   "id": "0a3cf9a2",
   "metadata": {},
   "outputs": [],
   "source": [
    "#разбиваем исх даные на тренировочные и тестовые \n",
    "X_train, X_test, y_train,y_test = train_test_split(X, y, test_size = 0.33, random_state = 42)"
   ]
  },
  {
   "cell_type": "code",
   "execution_count": 44,
   "id": "3496220f",
   "metadata": {},
   "outputs": [],
   "source": [
    "# заводим переменную-классификатор\n",
    "clf = tree.DecisionTreeClassifier(criterion = 'entropy')"
   ]
  },
  {
   "cell_type": "code",
   "execution_count": 66,
   "id": "cba5627e",
   "metadata": {},
   "outputs": [
    {
     "data": {
      "text/plain": [
       "DecisionTreeClassifier(criterion='entropy', max_depth=99, random_state=0)"
      ]
     },
     "execution_count": 66,
     "metadata": {},
     "output_type": "execute_result"
    }
   ],
   "source": [
    "#обучаем классификатор на тренировочных данных\n",
    "clf.fit(X_train, y_train)"
   ]
  },
  {
   "cell_type": "markdown",
   "id": "5142c374",
   "metadata": {},
   "source": [
    "Построим дерево"
   ]
  },
  {
   "cell_type": "code",
   "execution_count": 85,
   "id": "1330a290",
   "metadata": {},
   "outputs": [
    {
     "data": {
      "image/svg+xml": [
       "<svg xmlns=\"http://www.w3.org/2000/svg\" xmlns:xlink=\"http://www.w3.org/1999/xlink\" width=\"234pt\" height=\"195pt\" viewBox=\"0.00 0.00 234.00 195.00\">\n",
       "<g id=\"graph0\" class=\"graph\" transform=\"scale(1 1) rotate(0) translate(4 191)\">\n",
       "<title>Tree</title>\n",
       "<polygon fill=\"white\" stroke=\"none\" points=\"-4,4 -4,-191 230,-191 230,4 -4,4\"/>\n",
       "<!-- 0 -->\n",
       "<g id=\"node1\" class=\"node\"><title>0</title>\n",
       "<polygon fill=\"#ffffff\" stroke=\"black\" points=\"172,-187 54,-187 54,-104 172,-104 172,-187\"/>\n",
       "<text text-anchor=\"middle\" x=\"113\" y=\"-171.8\" font-family=\"Times New Roman,serif\" font-size=\"14.00\">Длина &lt;= 14.5</text>\n",
       "<text text-anchor=\"middle\" x=\"113\" y=\"-156.8\" font-family=\"Times New Roman,serif\" font-size=\"14.00\">entropy = 1.0</text>\n",
       "<text text-anchor=\"middle\" x=\"113\" y=\"-141.8\" font-family=\"Times New Roman,serif\" font-size=\"14.00\">samples = 670</text>\n",
       "<text text-anchor=\"middle\" x=\"113\" y=\"-126.8\" font-family=\"Times New Roman,serif\" font-size=\"14.00\">value = [335, 335]</text>\n",
       "<text text-anchor=\"middle\" x=\"113\" y=\"-111.8\" font-family=\"Times New Roman,serif\" font-size=\"14.00\">class = Negativ</text>\n",
       "</g>\n",
       "<!-- 1 -->\n",
       "<g id=\"node2\" class=\"node\"><title>1</title>\n",
       "<polygon fill=\"#e58139\" stroke=\"black\" points=\"104,-68 0,-68 0,-0 104,-0 104,-68\"/>\n",
       "<text text-anchor=\"middle\" x=\"52\" y=\"-52.8\" font-family=\"Times New Roman,serif\" font-size=\"14.00\">entropy = 0.0</text>\n",
       "<text text-anchor=\"middle\" x=\"52\" y=\"-37.8\" font-family=\"Times New Roman,serif\" font-size=\"14.00\">samples = 335</text>\n",
       "<text text-anchor=\"middle\" x=\"52\" y=\"-22.8\" font-family=\"Times New Roman,serif\" font-size=\"14.00\">value = [335, 0]</text>\n",
       "<text text-anchor=\"middle\" x=\"52\" y=\"-7.8\" font-family=\"Times New Roman,serif\" font-size=\"14.00\">class = Negativ</text>\n",
       "</g>\n",
       "<!-- 0&#45;&gt;1 -->\n",
       "<g id=\"edge1\" class=\"edge\"><title>0-&gt;1</title>\n",
       "<path fill=\"none\" stroke=\"black\" d=\"M90.2859,-103.726C85.4589,-95.0615 80.3531,-85.8962 75.4976,-77.1802\"/>\n",
       "<polygon fill=\"black\" stroke=\"black\" points=\"78.4747,-75.3322 70.5505,-68.2996 72.3595,-78.7389 78.4747,-75.3322\"/>\n",
       "<text text-anchor=\"middle\" x=\"63.7104\" y=\"-88.6457\" font-family=\"Times New Roman,serif\" font-size=\"14.00\">True</text>\n",
       "</g>\n",
       "<!-- 2 -->\n",
       "<g id=\"node3\" class=\"node\"><title>2</title>\n",
       "<polygon fill=\"#399de5\" stroke=\"black\" points=\"226,-68 122,-68 122,-0 226,-0 226,-68\"/>\n",
       "<text text-anchor=\"middle\" x=\"174\" y=\"-52.8\" font-family=\"Times New Roman,serif\" font-size=\"14.00\">entropy = 0.0</text>\n",
       "<text text-anchor=\"middle\" x=\"174\" y=\"-37.8\" font-family=\"Times New Roman,serif\" font-size=\"14.00\">samples = 335</text>\n",
       "<text text-anchor=\"middle\" x=\"174\" y=\"-22.8\" font-family=\"Times New Roman,serif\" font-size=\"14.00\">value = [0, 335]</text>\n",
       "<text text-anchor=\"middle\" x=\"174\" y=\"-7.8\" font-family=\"Times New Roman,serif\" font-size=\"14.00\">class = Positive</text>\n",
       "</g>\n",
       "<!-- 0&#45;&gt;2 -->\n",
       "<g id=\"edge2\" class=\"edge\"><title>0-&gt;2</title>\n",
       "<path fill=\"none\" stroke=\"black\" d=\"M135.714,-103.726C140.541,-95.0615 145.647,-85.8962 150.502,-77.1802\"/>\n",
       "<polygon fill=\"black\" stroke=\"black\" points=\"153.64,-78.7389 155.45,-68.2996 147.525,-75.3322 153.64,-78.7389\"/>\n",
       "<text text-anchor=\"middle\" x=\"162.29\" y=\"-88.6457\" font-family=\"Times New Roman,serif\" font-size=\"14.00\">False</text>\n",
       "</g>\n",
       "</g>\n",
       "</svg>"
      ],
      "text/plain": [
       "<IPython.core.display.SVG object>"
      ]
     },
     "metadata": {},
     "output_type": "display_data"
    }
   ],
   "source": [
    "graph = Source(tree.export_graphviz(clf, out_file = None,\n",
    "                                   feature_names = list(X),\n",
    "                                   class_names = ['Negativ','Positive'],\n",
    "                                   filled = True))\n",
    "display(SVG(graph.pipe(format='svg')))"
   ]
  },
  {
   "cell_type": "code",
   "execution_count": 67,
   "id": "2d0b14db",
   "metadata": {},
   "outputs": [
    {
     "data": {
      "text/plain": [
       "1.0"
      ]
     },
     "execution_count": 67,
     "metadata": {},
     "output_type": "execute_result"
    }
   ],
   "source": [
    "# показаель правильных ответов \n",
    "clf.score(X_train, y_train)"
   ]
  },
  {
   "cell_type": "code",
   "execution_count": 76,
   "id": "225496bc",
   "metadata": {},
   "outputs": [],
   "source": [
    "# загружаем тренировочный датасет( убирать колонки не надо, он уже готов )\n",
    "X_test = pd.read_json(r'E:\\pyrhon\\progectTEST\\2.4.4\\dataset_209691_15.txt')"
   ]
  },
  {
   "cell_type": "code",
   "execution_count": 77,
   "id": "5b6442b2",
   "metadata": {},
   "outputs": [
    {
     "data": {
      "text/html": [
       "<div>\n",
       "<style scoped>\n",
       "    .dataframe tbody tr th:only-of-type {\n",
       "        vertical-align: middle;\n",
       "    }\n",
       "\n",
       "    .dataframe tbody tr th {\n",
       "        vertical-align: top;\n",
       "    }\n",
       "\n",
       "    .dataframe thead th {\n",
       "        text-align: right;\n",
       "    }\n",
       "</style>\n",
       "<table border=\"1\" class=\"dataframe\">\n",
       "  <thead>\n",
       "    <tr style=\"text-align: right;\">\n",
       "      <th></th>\n",
       "      <th>Длина</th>\n",
       "      <th>Высота</th>\n",
       "      <th>Шерстист</th>\n",
       "      <th>Гавкает</th>\n",
       "      <th>Лазает по деревьям</th>\n",
       "    </tr>\n",
       "  </thead>\n",
       "  <tbody>\n",
       "    <tr>\n",
       "      <th>0</th>\n",
       "      <td>30</td>\n",
       "      <td>36.0</td>\n",
       "      <td>1</td>\n",
       "      <td>1</td>\n",
       "      <td>0</td>\n",
       "    </tr>\n",
       "    <tr>\n",
       "      <th>1</th>\n",
       "      <td>32</td>\n",
       "      <td>38.4</td>\n",
       "      <td>1</td>\n",
       "      <td>1</td>\n",
       "      <td>0</td>\n",
       "    </tr>\n",
       "    <tr>\n",
       "      <th>2</th>\n",
       "      <td>18</td>\n",
       "      <td>21.6</td>\n",
       "      <td>1</td>\n",
       "      <td>1</td>\n",
       "      <td>0</td>\n",
       "    </tr>\n",
       "    <tr>\n",
       "      <th>3</th>\n",
       "      <td>26</td>\n",
       "      <td>31.2</td>\n",
       "      <td>1</td>\n",
       "      <td>1</td>\n",
       "      <td>0</td>\n",
       "    </tr>\n",
       "    <tr>\n",
       "      <th>4</th>\n",
       "      <td>16</td>\n",
       "      <td>19.2</td>\n",
       "      <td>1</td>\n",
       "      <td>1</td>\n",
       "      <td>0</td>\n",
       "    </tr>\n",
       "    <tr>\n",
       "      <th>...</th>\n",
       "      <td>...</td>\n",
       "      <td>...</td>\n",
       "      <td>...</td>\n",
       "      <td>...</td>\n",
       "      <td>...</td>\n",
       "    </tr>\n",
       "    <tr>\n",
       "      <th>95</th>\n",
       "      <td>11</td>\n",
       "      <td>4.4</td>\n",
       "      <td>1</td>\n",
       "      <td>1</td>\n",
       "      <td>1</td>\n",
       "    </tr>\n",
       "    <tr>\n",
       "      <th>96</th>\n",
       "      <td>5</td>\n",
       "      <td>2.0</td>\n",
       "      <td>1</td>\n",
       "      <td>0</td>\n",
       "      <td>1</td>\n",
       "    </tr>\n",
       "    <tr>\n",
       "      <th>97</th>\n",
       "      <td>7</td>\n",
       "      <td>2.8</td>\n",
       "      <td>1</td>\n",
       "      <td>0</td>\n",
       "      <td>1</td>\n",
       "    </tr>\n",
       "    <tr>\n",
       "      <th>98</th>\n",
       "      <td>13</td>\n",
       "      <td>5.2</td>\n",
       "      <td>1</td>\n",
       "      <td>0</td>\n",
       "      <td>1</td>\n",
       "    </tr>\n",
       "    <tr>\n",
       "      <th>99</th>\n",
       "      <td>10</td>\n",
       "      <td>4.0</td>\n",
       "      <td>1</td>\n",
       "      <td>0</td>\n",
       "      <td>1</td>\n",
       "    </tr>\n",
       "  </tbody>\n",
       "</table>\n",
       "<p>100 rows × 5 columns</p>\n",
       "</div>"
      ],
      "text/plain": [
       "    Длина  Высота  Шерстист  Гавкает  Лазает по деревьям\n",
       "0      30    36.0         1        1                   0\n",
       "1      32    38.4         1        1                   0\n",
       "2      18    21.6         1        1                   0\n",
       "3      26    31.2         1        1                   0\n",
       "4      16    19.2         1        1                   0\n",
       "..    ...     ...       ...      ...                 ...\n",
       "95     11     4.4         1        1                   1\n",
       "96      5     2.0         1        0                   1\n",
       "97      7     2.8         1        0                   1\n",
       "98     13     5.2         1        0                   1\n",
       "99     10     4.0         1        0                   1\n",
       "\n",
       "[100 rows x 5 columns]"
      ]
     },
     "execution_count": 77,
     "metadata": {},
     "output_type": "execute_result"
    }
   ],
   "source": [
    "X_test"
   ]
  },
  {
   "cell_type": "code",
   "execution_count": 78,
   "id": "8ea3bb64",
   "metadata": {},
   "outputs": [],
   "source": [
    "# метод predict - предсказание по обученной модели \n",
    "# т.е. к обученному классификатору применяем предсказание на тестовых данных\n",
    "# мы говорит классификатору - на основе обученной модели, предскажи по показателям\n",
    "#Длина,Высота,Шерстист,Гавкает,Лазает по деревьям  собака это или кошка\n",
    "result = clf.predict(X_test)"
   ]
  },
  {
   "cell_type": "code",
   "execution_count": 79,
   "id": "f488887f",
   "metadata": {},
   "outputs": [
    {
     "data": {
      "text/plain": [
       "array(['собачка', 'собачка', 'собачка', 'собачка', 'собачка', 'собачка',\n",
       "       'собачка', 'собачка', 'собачка', 'собачка', 'собачка', 'собачка',\n",
       "       'собачка', 'собачка', 'собачка', 'собачка', 'собачка', 'собачка',\n",
       "       'собачка', 'собачка', 'собачка', 'собачка', 'собачка', 'собачка',\n",
       "       'собачка', 'собачка', 'собачка', 'собачка', 'собачка', 'собачка',\n",
       "       'собачка', 'собачка', 'собачка', 'собачка', 'собачка', 'собачка',\n",
       "       'собачка', 'собачка', 'собачка', 'собачка', 'собачка', 'собачка',\n",
       "       'собачка', 'собачка', 'собачка', 'собачка', 'собачка', 'собачка',\n",
       "       'собачка', 'собачка', 'котик', 'котик', 'котик', 'котик', 'котик',\n",
       "       'котик', 'котик', 'котик', 'котик', 'котик', 'котик', 'котик',\n",
       "       'котик', 'котик', 'котик', 'котик', 'котик', 'котик', 'котик',\n",
       "       'котик', 'котик', 'котик', 'котик', 'котик', 'котик', 'котик',\n",
       "       'котик', 'котик', 'котик', 'котик', 'котик', 'котик', 'котик',\n",
       "       'котик', 'котик', 'котик', 'котик', 'котик', 'котик', 'котик',\n",
       "       'котик', 'котик', 'котик', 'котик', 'котик', 'котик', 'котик',\n",
       "       'котик', 'котик', 'котик'], dtype=object)"
      ]
     },
     "execution_count": 79,
     "metadata": {},
     "output_type": "execute_result"
    }
   ],
   "source": [
    "# результат - массив из кошек и собак(первая строка - собака, вторая - собака и т.д.)\n",
    "result"
   ]
  },
  {
   "cell_type": "code",
   "execution_count": 83,
   "id": "ce36db0f",
   "metadata": {},
   "outputs": [
    {
     "data": {
      "text/plain": [
       "50"
      ]
     },
     "execution_count": 83,
     "metadata": {},
     "output_type": "execute_result"
    }
   ],
   "source": [
    "#Посчитаем кол-во собак\n",
    "pd.Series(result)[result =='собачка'].count()"
   ]
  }
 ],
 "metadata": {
  "kernelspec": {
   "display_name": "Python 3 (ipykernel)",
   "language": "python",
   "name": "python3"
  },
  "language_info": {
   "codemirror_mode": {
    "name": "ipython",
    "version": 3
   },
   "file_extension": ".py",
   "mimetype": "text/x-python",
   "name": "python",
   "nbconvert_exporter": "python",
   "pygments_lexer": "ipython3",
   "version": "3.7.6"
  }
 },
 "nbformat": 4,
 "nbformat_minor": 5
}
