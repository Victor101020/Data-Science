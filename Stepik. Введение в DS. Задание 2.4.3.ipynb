{
 "cells": [
  {
   "cell_type": "markdown",
   "id": "47625903",
   "metadata": {},
   "source": [
    "Убедимся в том, что всё так происходит на самом деле. Скачайте тренировочный датасэт с ирисами, обучите деревья с глубиной от 1 до 100. Целевой переменной при обучении является переменная species. При этом записывайте его скор (DecisionTreeClassifier.score()) на тренировочных данных, и аккуратность предсказаний (accuracy_score) на тестовом датасэте. Затем визуализируйте зависимость скора и аккуратности предсказаний от глубины дерева и выберите правильную визуализацию из предложенных.\n",
    "\n",
    "Важно: задайте random seed прямо перед созданием дерева или укажите его в параметрах дерева (random_state=rs)\n",
    "\n",
    "np.random.seed(0)\n",
    "my_awesome_tree = DecisionTreeClassifier(...)\n",
    "или\n",
    "\n",
    "my_awesome_tree = DecisionTreeClassifier(random_state=0, ...)"
   ]
  },
  {
   "cell_type": "code",
   "execution_count": 137,
   "id": "05d3ad67",
   "metadata": {},
   "outputs": [],
   "source": [
    "from sklearn import tree\n",
    "import pandas as pd\n",
    "import numpy as np\n",
    "import matplotlib.pyplot as plt\n",
    "import seaborn as sns\n",
    "%matplotlib inline"
   ]
  },
  {
   "cell_type": "code",
   "execution_count": 138,
   "id": "b299e64c",
   "metadata": {},
   "outputs": [],
   "source": [
    "from IPython.display import SVG \n",
    "from IPython.display import display\n",
    "from graphviz import Source"
   ]
  },
  {
   "cell_type": "code",
   "execution_count": 139,
   "id": "b08d1fd1",
   "metadata": {},
   "outputs": [],
   "source": [
    "from IPython .display import HTML\n",
    "style = \"<style>svg{width:50% !important;height:50% !important;}</style>\"\n",
    "np.random.seed(0)"
   ]
  },
  {
   "cell_type": "markdown",
   "id": "f5838bda",
   "metadata": {},
   "source": [
    "1. ЗАГРУЗКА И ПОДГОТОВКА ДАННЫХ"
   ]
  },
  {
   "cell_type": "code",
   "execution_count": 140,
   "id": "0b4e1d00",
   "metadata": {},
   "outputs": [],
   "source": [
    "train_iris = pd.read_csv('E:\\\\pyrhon\\\\progectTEST\\\\2.4.3\\\\train_iris.csv') #загружаем датасет"
   ]
  },
  {
   "cell_type": "code",
   "execution_count": 141,
   "id": "00b5be49",
   "metadata": {},
   "outputs": [
    {
     "data": {
      "text/html": [
       "<div>\n",
       "<style scoped>\n",
       "    .dataframe tbody tr th:only-of-type {\n",
       "        vertical-align: middle;\n",
       "    }\n",
       "\n",
       "    .dataframe tbody tr th {\n",
       "        vertical-align: top;\n",
       "    }\n",
       "\n",
       "    .dataframe thead th {\n",
       "        text-align: right;\n",
       "    }\n",
       "</style>\n",
       "<table border=\"1\" class=\"dataframe\">\n",
       "  <thead>\n",
       "    <tr style=\"text-align: right;\">\n",
       "      <th></th>\n",
       "      <th>Unnamed: 0</th>\n",
       "      <th>sepal length</th>\n",
       "      <th>sepal width</th>\n",
       "      <th>petal length</th>\n",
       "      <th>petal width</th>\n",
       "      <th>species</th>\n",
       "    </tr>\n",
       "  </thead>\n",
       "  <tbody>\n",
       "    <tr>\n",
       "      <th>0</th>\n",
       "      <td>130</td>\n",
       "      <td>7.4</td>\n",
       "      <td>2.8</td>\n",
       "      <td>6.1</td>\n",
       "      <td>1.9</td>\n",
       "      <td>2</td>\n",
       "    </tr>\n",
       "    <tr>\n",
       "      <th>1</th>\n",
       "      <td>7</td>\n",
       "      <td>5.0</td>\n",
       "      <td>3.4</td>\n",
       "      <td>1.5</td>\n",
       "      <td>0.2</td>\n",
       "      <td>0</td>\n",
       "    </tr>\n",
       "    <tr>\n",
       "      <th>2</th>\n",
       "      <td>11</td>\n",
       "      <td>4.8</td>\n",
       "      <td>3.4</td>\n",
       "      <td>1.6</td>\n",
       "      <td>0.2</td>\n",
       "      <td>0</td>\n",
       "    </tr>\n",
       "    <tr>\n",
       "      <th>3</th>\n",
       "      <td>142</td>\n",
       "      <td>5.8</td>\n",
       "      <td>2.7</td>\n",
       "      <td>5.1</td>\n",
       "      <td>1.9</td>\n",
       "      <td>2</td>\n",
       "    </tr>\n",
       "    <tr>\n",
       "      <th>4</th>\n",
       "      <td>109</td>\n",
       "      <td>7.2</td>\n",
       "      <td>3.6</td>\n",
       "      <td>6.1</td>\n",
       "      <td>2.5</td>\n",
       "      <td>2</td>\n",
       "    </tr>\n",
       "    <tr>\n",
       "      <th>5</th>\n",
       "      <td>42</td>\n",
       "      <td>4.4</td>\n",
       "      <td>3.2</td>\n",
       "      <td>1.3</td>\n",
       "      <td>0.2</td>\n",
       "      <td>0</td>\n",
       "    </tr>\n",
       "    <tr>\n",
       "      <th>6</th>\n",
       "      <td>82</td>\n",
       "      <td>5.8</td>\n",
       "      <td>2.7</td>\n",
       "      <td>3.9</td>\n",
       "      <td>1.2</td>\n",
       "      <td>1</td>\n",
       "    </tr>\n",
       "    <tr>\n",
       "      <th>7</th>\n",
       "      <td>120</td>\n",
       "      <td>6.9</td>\n",
       "      <td>3.2</td>\n",
       "      <td>5.7</td>\n",
       "      <td>2.3</td>\n",
       "      <td>2</td>\n",
       "    </tr>\n",
       "    <tr>\n",
       "      <th>8</th>\n",
       "      <td>127</td>\n",
       "      <td>6.1</td>\n",
       "      <td>3.0</td>\n",
       "      <td>4.9</td>\n",
       "      <td>1.8</td>\n",
       "      <td>2</td>\n",
       "    </tr>\n",
       "    <tr>\n",
       "      <th>9</th>\n",
       "      <td>98</td>\n",
       "      <td>5.1</td>\n",
       "      <td>2.5</td>\n",
       "      <td>3.0</td>\n",
       "      <td>1.1</td>\n",
       "      <td>1</td>\n",
       "    </tr>\n",
       "  </tbody>\n",
       "</table>\n",
       "</div>"
      ],
      "text/plain": [
       "   Unnamed: 0  sepal length  sepal width  petal length  petal width  species\n",
       "0         130           7.4          2.8           6.1          1.9        2\n",
       "1           7           5.0          3.4           1.5          0.2        0\n",
       "2          11           4.8          3.4           1.6          0.2        0\n",
       "3         142           5.8          2.7           5.1          1.9        2\n",
       "4         109           7.2          3.6           6.1          2.5        2\n",
       "5          42           4.4          3.2           1.3          0.2        0\n",
       "6          82           5.8          2.7           3.9          1.2        1\n",
       "7         120           6.9          3.2           5.7          2.3        2\n",
       "8         127           6.1          3.0           4.9          1.8        2\n",
       "9          98           5.1          2.5           3.0          1.1        1"
      ]
     },
     "execution_count": 141,
     "metadata": {},
     "output_type": "execute_result"
    }
   ],
   "source": [
    "train_iris.head(10) #Выводим первые 10 строк"
   ]
  },
  {
   "cell_type": "code",
   "execution_count": 142,
   "id": "500555b0",
   "metadata": {},
   "outputs": [],
   "source": [
    "test_iris = pd.read_csv('E:\\\\pyrhon\\\\progectTEST\\\\2.4.3\\\\test_iris.csv') #загружаем датасет"
   ]
  },
  {
   "cell_type": "code",
   "execution_count": 143,
   "id": "f73270fa",
   "metadata": {},
   "outputs": [
    {
     "data": {
      "text/html": [
       "<div>\n",
       "<style scoped>\n",
       "    .dataframe tbody tr th:only-of-type {\n",
       "        vertical-align: middle;\n",
       "    }\n",
       "\n",
       "    .dataframe tbody tr th {\n",
       "        vertical-align: top;\n",
       "    }\n",
       "\n",
       "    .dataframe thead th {\n",
       "        text-align: right;\n",
       "    }\n",
       "</style>\n",
       "<table border=\"1\" class=\"dataframe\">\n",
       "  <thead>\n",
       "    <tr style=\"text-align: right;\">\n",
       "      <th></th>\n",
       "      <th>Unnamed: 0</th>\n",
       "      <th>sepal length</th>\n",
       "      <th>sepal width</th>\n",
       "      <th>petal length</th>\n",
       "      <th>petal width</th>\n",
       "      <th>species</th>\n",
       "    </tr>\n",
       "  </thead>\n",
       "  <tbody>\n",
       "    <tr>\n",
       "      <th>0</th>\n",
       "      <td>114</td>\n",
       "      <td>5.8</td>\n",
       "      <td>2.8</td>\n",
       "      <td>5.1</td>\n",
       "      <td>2.4</td>\n",
       "      <td>2</td>\n",
       "    </tr>\n",
       "    <tr>\n",
       "      <th>1</th>\n",
       "      <td>70</td>\n",
       "      <td>5.9</td>\n",
       "      <td>3.2</td>\n",
       "      <td>4.8</td>\n",
       "      <td>1.8</td>\n",
       "      <td>1</td>\n",
       "    </tr>\n",
       "    <tr>\n",
       "      <th>2</th>\n",
       "      <td>138</td>\n",
       "      <td>6.0</td>\n",
       "      <td>3.0</td>\n",
       "      <td>4.8</td>\n",
       "      <td>1.8</td>\n",
       "      <td>2</td>\n",
       "    </tr>\n",
       "    <tr>\n",
       "      <th>3</th>\n",
       "      <td>59</td>\n",
       "      <td>5.2</td>\n",
       "      <td>2.7</td>\n",
       "      <td>3.9</td>\n",
       "      <td>1.4</td>\n",
       "      <td>1</td>\n",
       "    </tr>\n",
       "    <tr>\n",
       "      <th>4</th>\n",
       "      <td>44</td>\n",
       "      <td>5.1</td>\n",
       "      <td>3.8</td>\n",
       "      <td>1.9</td>\n",
       "      <td>0.4</td>\n",
       "      <td>0</td>\n",
       "    </tr>\n",
       "    <tr>\n",
       "      <th>5</th>\n",
       "      <td>125</td>\n",
       "      <td>7.2</td>\n",
       "      <td>3.2</td>\n",
       "      <td>6.0</td>\n",
       "      <td>1.8</td>\n",
       "      <td>2</td>\n",
       "    </tr>\n",
       "    <tr>\n",
       "      <th>6</th>\n",
       "      <td>36</td>\n",
       "      <td>5.5</td>\n",
       "      <td>3.5</td>\n",
       "      <td>1.3</td>\n",
       "      <td>0.2</td>\n",
       "      <td>0</td>\n",
       "    </tr>\n",
       "    <tr>\n",
       "      <th>7</th>\n",
       "      <td>141</td>\n",
       "      <td>6.9</td>\n",
       "      <td>3.1</td>\n",
       "      <td>5.1</td>\n",
       "      <td>2.3</td>\n",
       "      <td>2</td>\n",
       "    </tr>\n",
       "    <tr>\n",
       "      <th>8</th>\n",
       "      <td>12</td>\n",
       "      <td>4.8</td>\n",
       "      <td>3.0</td>\n",
       "      <td>1.4</td>\n",
       "      <td>0.1</td>\n",
       "      <td>0</td>\n",
       "    </tr>\n",
       "    <tr>\n",
       "      <th>9</th>\n",
       "      <td>63</td>\n",
       "      <td>6.1</td>\n",
       "      <td>2.9</td>\n",
       "      <td>4.7</td>\n",
       "      <td>1.4</td>\n",
       "      <td>1</td>\n",
       "    </tr>\n",
       "  </tbody>\n",
       "</table>\n",
       "</div>"
      ],
      "text/plain": [
       "   Unnamed: 0  sepal length  sepal width  petal length  petal width  species\n",
       "0         114           5.8          2.8           5.1          2.4        2\n",
       "1          70           5.9          3.2           4.8          1.8        1\n",
       "2         138           6.0          3.0           4.8          1.8        2\n",
       "3          59           5.2          2.7           3.9          1.4        1\n",
       "4          44           5.1          3.8           1.9          0.4        0\n",
       "5         125           7.2          3.2           6.0          1.8        2\n",
       "6          36           5.5          3.5           1.3          0.2        0\n",
       "7         141           6.9          3.1           5.1          2.3        2\n",
       "8          12           4.8          3.0           1.4          0.1        0\n",
       "9          63           6.1          2.9           4.7          1.4        1"
      ]
     },
     "execution_count": 143,
     "metadata": {},
     "output_type": "execute_result"
    }
   ],
   "source": [
    "test_iris.head(10)  #выводим первые 10 строк"
   ]
  },
  {
   "cell_type": "markdown",
   "id": "e61488d1",
   "metadata": {},
   "source": [
    "Проверяем есть ли NaN в наших таблицах"
   ]
  },
  {
   "cell_type": "code",
   "execution_count": 144,
   "id": "d277285a",
   "metadata": {},
   "outputs": [
    {
     "data": {
      "text/plain": [
       "Unnamed: 0      0\n",
       "sepal length    0\n",
       "sepal width     0\n",
       "petal length    0\n",
       "petal width     0\n",
       "species         0\n",
       "dtype: int64"
      ]
     },
     "execution_count": 144,
     "metadata": {},
     "output_type": "execute_result"
    }
   ],
   "source": [
    "train_iris.isnull().sum() # Применим функцию isnull(посчитать NaN) и с помощью sum посчитаем сколько всего NaN в таблице"
   ]
  },
  {
   "cell_type": "code",
   "execution_count": 145,
   "id": "016285e8",
   "metadata": {},
   "outputs": [
    {
     "data": {
      "text/plain": [
       "Unnamed: 0      0\n",
       "sepal length    0\n",
       "sepal width     0\n",
       "petal length    0\n",
       "petal width     0\n",
       "species         0\n",
       "dtype: int64"
      ]
     },
     "execution_count": 145,
     "metadata": {},
     "output_type": "execute_result"
    }
   ],
   "source": [
    "test_iris.isnull().sum() # Применим функцию isnull(посчитать NaN) и с помощью sum посчитаем сколько всего NaN в таблице"
   ]
  },
  {
   "cell_type": "markdown",
   "id": "78efe756",
   "metadata": {},
   "source": [
    "Теперь необходимо создать переменные, которые будем использовать для обучения, а так же целевую переменну(species). "
   ]
  },
  {
   "cell_type": "code",
   "execution_count": 146,
   "id": "ef228137",
   "metadata": {},
   "outputs": [],
   "source": [
    "#В обучении не будут участвовать столбцы Unnamed: 0 т.к. это id цветка и наша целевая переменная species(то, что предсказываем)\n",
    "X_train_iris = train_iris.drop(['Unnamed: 0','species'], axis= 1)\n",
    "# заведем нашу целевую переменную\n",
    "y_train_iris = train_iris.species"
   ]
  },
  {
   "cell_type": "markdown",
   "id": "afb66f20",
   "metadata": {},
   "source": [
    "То же самое сделаем с тестовыми данными "
   ]
  },
  {
   "cell_type": "code",
   "execution_count": 178,
   "id": "62040bce",
   "metadata": {},
   "outputs": [],
   "source": [
    "#В обучении не будут участвовать столбцы Unnamed: 0 т.к. это id цветка и наша целевая переменная species(то, что предсказываем)\n",
    "X_test_iris = test_iris.drop(['Unnamed: 0','species'], axis= 1)\n",
    "# заведем нашу целевую переменную\n",
    "y_test_iris = test_iris.species\n",
    "\n",
    "# загрузка и обработка данных завершена"
   ]
  },
  {
   "cell_type": "markdown",
   "id": "90239e2e",
   "metadata": {},
   "source": [
    "2. ОБУЧАЕЩЕЕ ДЕРЕВО"
   ]
  },
  {
   "cell_type": "code",
   "execution_count": 179,
   "id": "b2462ee0",
   "metadata": {},
   "outputs": [],
   "source": [
    "clf = tree.DecisionTreeClassifier(criterion = 'entropy', random_state=0) # переменная - классификатор "
   ]
  },
  {
   "cell_type": "markdown",
   "id": "5bef004c",
   "metadata": {},
   "source": [
    "Чтобы определить оптимальную глубину обучения, надо перебрать max_depth и посмотреть на значения. Перебирать будем с помощью цикла for"
   ]
  },
  {
   "cell_type": "code",
   "execution_count": 180,
   "id": "ede40c90",
   "metadata": {},
   "outputs": [],
   "source": [
    "max_depth_values = range(1,100) #создаем переменную по которой будет бегать цикл, глубина дерева не равна 0\n",
    "score_data = pd.DataFrame() #создаем пустой дата фрей, куда будем записывать полученые в цикле значения  "
   ]
  },
  {
   "cell_type": "code",
   "execution_count": 189,
   "id": "632577a6",
   "metadata": {},
   "outputs": [],
   "source": [
    "for max_depth in max_depth_values:\n",
    "    # классификатор с зн-м max_depth\n",
    "    # при построении дерева используется рандом, значением random_state=0 устанавливает зерно = 0, чтобы графики с степиком не отличались\n",
    "    clf = tree.DecisionTreeClassifier(criterion = 'entropy', max_depth=max_depth, random_state=0) \n",
    "    \n",
    "    clf.fit(X_train_iris,y_train_iris) # обучение на тестовых данных \n",
    "    train_score = clf.score(X_train_iris,y_train_iris) # показатель правильных ответов тна трейне\n",
    "    test_score = clf.score(X_test_iris,y_test_iris) # показатель правильных ответов на тесте\n",
    "    \n",
    "    # далее в нутри цикла создадим дата фрейм со столбцами max_depth,train_score,test_score\n",
    "    \n",
    "    temp_score_data = pd.DataFrame({'max_depth':[max_depth],'train_score':[train_score],'test_score':[test_score]})\n",
    "    \n",
    "    #теперь занесем temp_score_data в основной датафрейм(score_data)\n",
    "    \n",
    "    score_data = score_data.append(temp_score_data)"
   ]
  },
  {
   "cell_type": "code",
   "execution_count": 191,
   "id": "9ab99f0c",
   "metadata": {},
   "outputs": [
    {
     "data": {
      "text/html": [
       "<div>\n",
       "<style scoped>\n",
       "    .dataframe tbody tr th:only-of-type {\n",
       "        vertical-align: middle;\n",
       "    }\n",
       "\n",
       "    .dataframe tbody tr th {\n",
       "        vertical-align: top;\n",
       "    }\n",
       "\n",
       "    .dataframe thead th {\n",
       "        text-align: right;\n",
       "    }\n",
       "</style>\n",
       "<table border=\"1\" class=\"dataframe\">\n",
       "  <thead>\n",
       "    <tr style=\"text-align: right;\">\n",
       "      <th></th>\n",
       "      <th>max_depth</th>\n",
       "      <th>train_score</th>\n",
       "      <th>test_score</th>\n",
       "    </tr>\n",
       "  </thead>\n",
       "  <tbody>\n",
       "    <tr>\n",
       "      <th>0</th>\n",
       "      <td>1</td>\n",
       "      <td>0.70</td>\n",
       "      <td>0.60</td>\n",
       "    </tr>\n",
       "    <tr>\n",
       "      <th>0</th>\n",
       "      <td>2</td>\n",
       "      <td>0.97</td>\n",
       "      <td>0.94</td>\n",
       "    </tr>\n",
       "    <tr>\n",
       "      <th>0</th>\n",
       "      <td>3</td>\n",
       "      <td>0.99</td>\n",
       "      <td>0.94</td>\n",
       "    </tr>\n",
       "    <tr>\n",
       "      <th>0</th>\n",
       "      <td>4</td>\n",
       "      <td>1.00</td>\n",
       "      <td>0.92</td>\n",
       "    </tr>\n",
       "    <tr>\n",
       "      <th>0</th>\n",
       "      <td>5</td>\n",
       "      <td>1.00</td>\n",
       "      <td>0.92</td>\n",
       "    </tr>\n",
       "    <tr>\n",
       "      <th>0</th>\n",
       "      <td>6</td>\n",
       "      <td>1.00</td>\n",
       "      <td>0.94</td>\n",
       "    </tr>\n",
       "    <tr>\n",
       "      <th>0</th>\n",
       "      <td>7</td>\n",
       "      <td>1.00</td>\n",
       "      <td>0.94</td>\n",
       "    </tr>\n",
       "    <tr>\n",
       "      <th>0</th>\n",
       "      <td>8</td>\n",
       "      <td>1.00</td>\n",
       "      <td>0.92</td>\n",
       "    </tr>\n",
       "    <tr>\n",
       "      <th>0</th>\n",
       "      <td>9</td>\n",
       "      <td>1.00</td>\n",
       "      <td>0.92</td>\n",
       "    </tr>\n",
       "    <tr>\n",
       "      <th>0</th>\n",
       "      <td>10</td>\n",
       "      <td>1.00</td>\n",
       "      <td>0.92</td>\n",
       "    </tr>\n",
       "  </tbody>\n",
       "</table>\n",
       "</div>"
      ],
      "text/plain": [
       "   max_depth  train_score  test_score\n",
       "0          1         0.70        0.60\n",
       "0          2         0.97        0.94\n",
       "0          3         0.99        0.94\n",
       "0          4         1.00        0.92\n",
       "0          5         1.00        0.92\n",
       "0          6         1.00        0.94\n",
       "0          7         1.00        0.94\n",
       "0          8         1.00        0.92\n",
       "0          9         1.00        0.92\n",
       "0         10         1.00        0.92"
      ]
     },
     "execution_count": 191,
     "metadata": {},
     "output_type": "execute_result"
    }
   ],
   "source": [
    "score_data.head(10) #смотрим первые 10 значений  в финальном датафрейме"
   ]
  },
  {
   "cell_type": "markdown",
   "id": "25361fdb",
   "metadata": {},
   "source": [
    "3. ВИЗУАЛИЗАЦИЯ\n",
    "Преобразуем полученную таблицу с помощью функции melt"
   ]
  },
  {
   "cell_type": "code",
   "execution_count": 192,
   "id": "bf4584b7",
   "metadata": {},
   "outputs": [],
   "source": [
    "score_data_final = pd.melt(score_data, id_vars =['max_depth'], value_vars = ['train_score','test_score'],\n",
    "                           var_name = 'set_type', value_name = 'score')"
   ]
  },
  {
   "cell_type": "code",
   "execution_count": 193,
   "id": "a0c1f2ea",
   "metadata": {},
   "outputs": [
    {
     "data": {
      "text/html": [
       "<div>\n",
       "<style scoped>\n",
       "    .dataframe tbody tr th:only-of-type {\n",
       "        vertical-align: middle;\n",
       "    }\n",
       "\n",
       "    .dataframe tbody tr th {\n",
       "        vertical-align: top;\n",
       "    }\n",
       "\n",
       "    .dataframe thead th {\n",
       "        text-align: right;\n",
       "    }\n",
       "</style>\n",
       "<table border=\"1\" class=\"dataframe\">\n",
       "  <thead>\n",
       "    <tr style=\"text-align: right;\">\n",
       "      <th></th>\n",
       "      <th>max_depth</th>\n",
       "      <th>set_type</th>\n",
       "      <th>score</th>\n",
       "    </tr>\n",
       "  </thead>\n",
       "  <tbody>\n",
       "    <tr>\n",
       "      <th>0</th>\n",
       "      <td>1</td>\n",
       "      <td>train_score</td>\n",
       "      <td>0.70</td>\n",
       "    </tr>\n",
       "    <tr>\n",
       "      <th>1</th>\n",
       "      <td>2</td>\n",
       "      <td>train_score</td>\n",
       "      <td>0.97</td>\n",
       "    </tr>\n",
       "    <tr>\n",
       "      <th>2</th>\n",
       "      <td>3</td>\n",
       "      <td>train_score</td>\n",
       "      <td>0.99</td>\n",
       "    </tr>\n",
       "    <tr>\n",
       "      <th>3</th>\n",
       "      <td>4</td>\n",
       "      <td>train_score</td>\n",
       "      <td>1.00</td>\n",
       "    </tr>\n",
       "    <tr>\n",
       "      <th>4</th>\n",
       "      <td>5</td>\n",
       "      <td>train_score</td>\n",
       "      <td>1.00</td>\n",
       "    </tr>\n",
       "  </tbody>\n",
       "</table>\n",
       "</div>"
      ],
      "text/plain": [
       "   max_depth     set_type  score\n",
       "0          1  train_score   0.70\n",
       "1          2  train_score   0.97\n",
       "2          3  train_score   0.99\n",
       "3          4  train_score   1.00\n",
       "4          5  train_score   1.00"
      ]
     },
     "execution_count": 193,
     "metadata": {},
     "output_type": "execute_result"
    }
   ],
   "source": [
    "score_data_final.head()"
   ]
  },
  {
   "cell_type": "markdown",
   "id": "eb2a580d",
   "metadata": {},
   "source": [
    "Далее мы можем построить график, ось x = 'max_depth', ось y = 'score', по каким значениям строим кривые hue = 'set_type', откуда брать значения data= score_data_final"
   ]
  },
  {
   "cell_type": "code",
   "execution_count": 194,
   "id": "72e8d8eb",
   "metadata": {},
   "outputs": [
    {
     "data": {
      "text/plain": [
       "<AxesSubplot:xlabel='max_depth', ylabel='score'>"
      ]
     },
     "execution_count": 194,
     "metadata": {},
     "output_type": "execute_result"
    },
    {
     "data": {
      "image/png": "[encoded data removed]",
      "text/plain": [
       "<Figure size 432x288 with 1 Axes>"
      ]
     },
     "metadata": {
      "needs_background": "light"
     },
     "output_type": "display_data"
    }
   ],
   "source": [
    "sns.lineplot(x='max_depth', y = 'score', hue = 'set_type', data= score_data_final)"
   ]
  },
  {
   "cell_type": "code",
   "execution_count": null,
   "id": "fe841e4d",
   "metadata": {},
   "outputs": [],
   "source": []
  }
 ],
 "metadata": {
  "kernelspec": {
   "display_name": "Python 3 (ipykernel)",
   "language": "python",
   "name": "python3"
  },
  "language_info": {
   "codemirror_mode": {
    "name": "ipython",
    "version": 3
   },
   "file_extension": ".py",
   "mimetype": "text/x-python",
   "name": "python",
   "nbconvert_exporter": "python",
   "pygments_lexer": "ipython3",
   "version": "3.7.6"
  }
 },
 "nbformat": 4,
 "nbformat_minor": 5
}
